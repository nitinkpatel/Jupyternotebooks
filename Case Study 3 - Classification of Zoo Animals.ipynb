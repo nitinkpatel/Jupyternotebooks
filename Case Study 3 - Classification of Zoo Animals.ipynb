{
 "cells": [
  {
   "cell_type": "markdown",
   "id": "a7d6dd92",
   "metadata": {},
   "source": [
    "# Step 3 - Importing modules"
   ]
  },
  {
   "cell_type": "code",
   "execution_count": 16,
   "id": "1df1e047",
   "metadata": {},
   "outputs": [],
   "source": [
    "import pandas as pd\n",
    "import numpy as np\n",
    "import seaborn as sb\n",
    "import matplotlib.pyplot as plt\n",
    "%matplotlib inline\n",
    "\n",
    "# Supervised classification\n",
    "from sklearn.metrics import classification_report\n",
    "from sklearn.neighbors import KNeighborsClassifier\n",
    "from sklearn.model_selection import train_test_split\n",
    "\n",
    "# Logistic Regression\n",
    "from sklearn.linear_model import LogisticRegression\n"
   ]
  },
  {
   "cell_type": "markdown",
   "id": "a62e102c",
   "metadata": {},
   "source": [
    "# Step 4 - Read csv into a pandas dataset"
   ]
  },
  {
   "cell_type": "code",
   "execution_count": 2,
   "id": "2314ddd5",
   "metadata": {},
   "outputs": [],
   "source": [
    "df_zoo = pd.read_csv(\"zoo.csv\")"
   ]
  },
  {
   "cell_type": "markdown",
   "id": "199ba503",
   "metadata": {},
   "source": [
    "# Step 5 - Use info method"
   ]
  },
  {
   "cell_type": "code",
   "execution_count": 21,
   "id": "6bb6797d",
   "metadata": {},
   "outputs": [
    {
     "name": "stdout",
     "output_type": "stream",
     "text": [
      "<class 'pandas.core.frame.DataFrame'>\n",
      "Int64Index: 101 entries, 0 to 91\n",
      "Data columns (total 18 columns):\n",
      " #   Column       Non-Null Count  Dtype \n",
      "---  ------       --------------  ----- \n",
      " 0   animal_name  101 non-null    object\n",
      " 1   hair         101 non-null    int64 \n",
      " 2   feathers     101 non-null    int64 \n",
      " 3   eggs         101 non-null    int64 \n",
      " 4   milk         101 non-null    int64 \n",
      " 5   airborne     101 non-null    int64 \n",
      " 6   aquatic      101 non-null    int64 \n",
      " 7   predator     101 non-null    int64 \n",
      " 8   toothed      101 non-null    int64 \n",
      " 9   backbone     101 non-null    int64 \n",
      " 10  breathes     101 non-null    int64 \n",
      " 11  venomous     101 non-null    int64 \n",
      " 12  fins         101 non-null    int64 \n",
      " 13  legs         101 non-null    int64 \n",
      " 14  tail         101 non-null    int64 \n",
      " 15  domestic     101 non-null    int64 \n",
      " 16  class_type   101 non-null    int64 \n",
      " 17  Class_Type   101 non-null    object\n",
      "dtypes: int64(16), object(2)\n",
      "memory usage: 15.0+ KB\n"
     ]
    }
   ],
   "source": [
    "df_zoo.info()"
   ]
  },
  {
   "cell_type": "markdown",
   "id": "2ff52ac7",
   "metadata": {},
   "source": [
    "# Step 6 - Read csv into a pandas dataset"
   ]
  },
  {
   "cell_type": "code",
   "execution_count": 4,
   "id": "878af096",
   "metadata": {},
   "outputs": [
    {
     "data": {
      "text/html": [
       "<div>\n",
       "<style scoped>\n",
       "    .dataframe tbody tr th:only-of-type {\n",
       "        vertical-align: middle;\n",
       "    }\n",
       "\n",
       "    .dataframe tbody tr th {\n",
       "        vertical-align: top;\n",
       "    }\n",
       "\n",
       "    .dataframe thead th {\n",
       "        text-align: right;\n",
       "    }\n",
       "</style>\n",
       "<table border=\"1\" class=\"dataframe\">\n",
       "  <thead>\n",
       "    <tr style=\"text-align: right;\">\n",
       "      <th></th>\n",
       "      <th>Number_Of_Animal_Species_In_Class</th>\n",
       "      <th>Class_Type</th>\n",
       "      <th>Animal_Names</th>\n",
       "    </tr>\n",
       "    <tr>\n",
       "      <th>Class_Number</th>\n",
       "      <th></th>\n",
       "      <th></th>\n",
       "      <th></th>\n",
       "    </tr>\n",
       "  </thead>\n",
       "  <tbody>\n",
       "    <tr>\n",
       "      <th>1</th>\n",
       "      <td>41</td>\n",
       "      <td>Mammal</td>\n",
       "      <td>aardvark, antelope, bear, boar, buffalo, calf,...</td>\n",
       "    </tr>\n",
       "    <tr>\n",
       "      <th>2</th>\n",
       "      <td>20</td>\n",
       "      <td>Bird</td>\n",
       "      <td>chicken, crow, dove, duck, flamingo, gull, haw...</td>\n",
       "    </tr>\n",
       "    <tr>\n",
       "      <th>3</th>\n",
       "      <td>5</td>\n",
       "      <td>Reptile</td>\n",
       "      <td>pitviper, seasnake, slowworm, tortoise, tuatara</td>\n",
       "    </tr>\n",
       "    <tr>\n",
       "      <th>4</th>\n",
       "      <td>13</td>\n",
       "      <td>Fish</td>\n",
       "      <td>bass, carp, catfish, chub, dogfish, haddock, h...</td>\n",
       "    </tr>\n",
       "    <tr>\n",
       "      <th>5</th>\n",
       "      <td>4</td>\n",
       "      <td>Amphibian</td>\n",
       "      <td>frog, frog, newt, toad</td>\n",
       "    </tr>\n",
       "    <tr>\n",
       "      <th>6</th>\n",
       "      <td>8</td>\n",
       "      <td>Bug</td>\n",
       "      <td>flea, gnat, honeybee, housefly, ladybird, moth...</td>\n",
       "    </tr>\n",
       "    <tr>\n",
       "      <th>7</th>\n",
       "      <td>10</td>\n",
       "      <td>Invertebrate</td>\n",
       "      <td>clam, crab, crayfish, lobster, octopus, scorpi...</td>\n",
       "    </tr>\n",
       "  </tbody>\n",
       "</table>\n",
       "</div>"
      ],
      "text/plain": [
       "              Number_Of_Animal_Species_In_Class    Class_Type  \\\n",
       "Class_Number                                                    \n",
       "1                                            41        Mammal   \n",
       "2                                            20          Bird   \n",
       "3                                             5       Reptile   \n",
       "4                                            13          Fish   \n",
       "5                                             4     Amphibian   \n",
       "6                                             8           Bug   \n",
       "7                                            10  Invertebrate   \n",
       "\n",
       "                                                   Animal_Names  \n",
       "Class_Number                                                     \n",
       "1             aardvark, antelope, bear, boar, buffalo, calf,...  \n",
       "2             chicken, crow, dove, duck, flamingo, gull, haw...  \n",
       "3               pitviper, seasnake, slowworm, tortoise, tuatara  \n",
       "4             bass, carp, catfish, chub, dogfish, haddock, h...  \n",
       "5                                        frog, frog, newt, toad  \n",
       "6             flea, gnat, honeybee, housefly, ladybird, moth...  \n",
       "7             clam, crab, crayfish, lobster, octopus, scorpi...  "
      ]
     },
     "execution_count": 4,
     "metadata": {},
     "output_type": "execute_result"
    }
   ],
   "source": [
    "df_class = pd.read_csv(\"class.csv\", index_col=\"Class_Number\")\n",
    "df_class"
   ]
  },
  {
   "cell_type": "code",
   "execution_count": 5,
   "id": "bb4605be",
   "metadata": {},
   "outputs": [
    {
     "name": "stdout",
     "output_type": "stream",
     "text": [
      "<class 'pandas.core.frame.DataFrame'>\n",
      "Int64Index: 7 entries, 1 to 7\n",
      "Data columns (total 3 columns):\n",
      " #   Column                             Non-Null Count  Dtype \n",
      "---  ------                             --------------  ----- \n",
      " 0   Number_Of_Animal_Species_In_Class  7 non-null      int64 \n",
      " 1   Class_Type                         7 non-null      object\n",
      " 2   Animal_Names                       7 non-null      object\n",
      "dtypes: int64(1), object(2)\n",
      "memory usage: 224.0+ bytes\n"
     ]
    }
   ],
   "source": [
    "df_class.info()"
   ]
  },
  {
   "cell_type": "markdown",
   "id": "da79d01e",
   "metadata": {},
   "source": [
    "# Step 7 - Merged dataframes using join method"
   ]
  },
  {
   "cell_type": "code",
   "execution_count": 6,
   "id": "f1eb0219",
   "metadata": {},
   "outputs": [
    {
     "data": {
      "text/plain": [
       "(101, 21)"
      ]
     },
     "execution_count": 6,
     "metadata": {},
     "output_type": "execute_result"
    }
   ],
   "source": [
    "df_zoo = df_zoo.join(df_class, how='inner', on='class_type')\n",
    "# To check if there are any duplicated. We got the 101 rows of df_zoo with the 21 columns from the two sets\n",
    "df_zoo.shape "
   ]
  },
  {
   "cell_type": "markdown",
   "id": "c85a8669",
   "metadata": {},
   "source": [
    "# Step 8 - Dropping unwanted columns"
   ]
  },
  {
   "cell_type": "code",
   "execution_count": 7,
   "id": "c9d8d0d2",
   "metadata": {},
   "outputs": [
    {
     "data": {
      "text/html": [
       "<div>\n",
       "<style scoped>\n",
       "    .dataframe tbody tr th:only-of-type {\n",
       "        vertical-align: middle;\n",
       "    }\n",
       "\n",
       "    .dataframe tbody tr th {\n",
       "        vertical-align: top;\n",
       "    }\n",
       "\n",
       "    .dataframe thead th {\n",
       "        text-align: right;\n",
       "    }\n",
       "</style>\n",
       "<table border=\"1\" class=\"dataframe\">\n",
       "  <thead>\n",
       "    <tr style=\"text-align: right;\">\n",
       "      <th></th>\n",
       "      <th>animal_name</th>\n",
       "      <th>hair</th>\n",
       "      <th>feathers</th>\n",
       "      <th>eggs</th>\n",
       "      <th>milk</th>\n",
       "      <th>airborne</th>\n",
       "      <th>aquatic</th>\n",
       "      <th>predator</th>\n",
       "      <th>toothed</th>\n",
       "      <th>backbone</th>\n",
       "      <th>breathes</th>\n",
       "      <th>venomous</th>\n",
       "      <th>fins</th>\n",
       "      <th>legs</th>\n",
       "      <th>tail</th>\n",
       "      <th>domestic</th>\n",
       "      <th>class_type</th>\n",
       "      <th>Class_Type</th>\n",
       "    </tr>\n",
       "  </thead>\n",
       "  <tbody>\n",
       "    <tr>\n",
       "      <th>0</th>\n",
       "      <td>aardvark</td>\n",
       "      <td>1</td>\n",
       "      <td>0</td>\n",
       "      <td>0</td>\n",
       "      <td>1</td>\n",
       "      <td>0</td>\n",
       "      <td>0</td>\n",
       "      <td>1</td>\n",
       "      <td>1</td>\n",
       "      <td>1</td>\n",
       "      <td>1</td>\n",
       "      <td>0</td>\n",
       "      <td>0</td>\n",
       "      <td>4</td>\n",
       "      <td>0</td>\n",
       "      <td>0</td>\n",
       "      <td>1</td>\n",
       "      <td>Mammal</td>\n",
       "    </tr>\n",
       "    <tr>\n",
       "      <th>1</th>\n",
       "      <td>antelope</td>\n",
       "      <td>1</td>\n",
       "      <td>0</td>\n",
       "      <td>0</td>\n",
       "      <td>1</td>\n",
       "      <td>0</td>\n",
       "      <td>0</td>\n",
       "      <td>0</td>\n",
       "      <td>1</td>\n",
       "      <td>1</td>\n",
       "      <td>1</td>\n",
       "      <td>0</td>\n",
       "      <td>0</td>\n",
       "      <td>4</td>\n",
       "      <td>1</td>\n",
       "      <td>0</td>\n",
       "      <td>1</td>\n",
       "      <td>Mammal</td>\n",
       "    </tr>\n",
       "    <tr>\n",
       "      <th>3</th>\n",
       "      <td>bear</td>\n",
       "      <td>1</td>\n",
       "      <td>0</td>\n",
       "      <td>0</td>\n",
       "      <td>1</td>\n",
       "      <td>0</td>\n",
       "      <td>0</td>\n",
       "      <td>1</td>\n",
       "      <td>1</td>\n",
       "      <td>1</td>\n",
       "      <td>1</td>\n",
       "      <td>0</td>\n",
       "      <td>0</td>\n",
       "      <td>4</td>\n",
       "      <td>0</td>\n",
       "      <td>0</td>\n",
       "      <td>1</td>\n",
       "      <td>Mammal</td>\n",
       "    </tr>\n",
       "    <tr>\n",
       "      <th>4</th>\n",
       "      <td>boar</td>\n",
       "      <td>1</td>\n",
       "      <td>0</td>\n",
       "      <td>0</td>\n",
       "      <td>1</td>\n",
       "      <td>0</td>\n",
       "      <td>0</td>\n",
       "      <td>1</td>\n",
       "      <td>1</td>\n",
       "      <td>1</td>\n",
       "      <td>1</td>\n",
       "      <td>0</td>\n",
       "      <td>0</td>\n",
       "      <td>4</td>\n",
       "      <td>1</td>\n",
       "      <td>0</td>\n",
       "      <td>1</td>\n",
       "      <td>Mammal</td>\n",
       "    </tr>\n",
       "    <tr>\n",
       "      <th>5</th>\n",
       "      <td>buffalo</td>\n",
       "      <td>1</td>\n",
       "      <td>0</td>\n",
       "      <td>0</td>\n",
       "      <td>1</td>\n",
       "      <td>0</td>\n",
       "      <td>0</td>\n",
       "      <td>0</td>\n",
       "      <td>1</td>\n",
       "      <td>1</td>\n",
       "      <td>1</td>\n",
       "      <td>0</td>\n",
       "      <td>0</td>\n",
       "      <td>4</td>\n",
       "      <td>1</td>\n",
       "      <td>0</td>\n",
       "      <td>1</td>\n",
       "      <td>Mammal</td>\n",
       "    </tr>\n",
       "    <tr>\n",
       "      <th>...</th>\n",
       "      <td>...</td>\n",
       "      <td>...</td>\n",
       "      <td>...</td>\n",
       "      <td>...</td>\n",
       "      <td>...</td>\n",
       "      <td>...</td>\n",
       "      <td>...</td>\n",
       "      <td>...</td>\n",
       "      <td>...</td>\n",
       "      <td>...</td>\n",
       "      <td>...</td>\n",
       "      <td>...</td>\n",
       "      <td>...</td>\n",
       "      <td>...</td>\n",
       "      <td>...</td>\n",
       "      <td>...</td>\n",
       "      <td>...</td>\n",
       "      <td>...</td>\n",
       "    </tr>\n",
       "    <tr>\n",
       "      <th>62</th>\n",
       "      <td>pitviper</td>\n",
       "      <td>0</td>\n",
       "      <td>0</td>\n",
       "      <td>1</td>\n",
       "      <td>0</td>\n",
       "      <td>0</td>\n",
       "      <td>0</td>\n",
       "      <td>1</td>\n",
       "      <td>1</td>\n",
       "      <td>1</td>\n",
       "      <td>1</td>\n",
       "      <td>1</td>\n",
       "      <td>0</td>\n",
       "      <td>0</td>\n",
       "      <td>1</td>\n",
       "      <td>0</td>\n",
       "      <td>3</td>\n",
       "      <td>Reptile</td>\n",
       "    </tr>\n",
       "    <tr>\n",
       "      <th>76</th>\n",
       "      <td>seasnake</td>\n",
       "      <td>0</td>\n",
       "      <td>0</td>\n",
       "      <td>0</td>\n",
       "      <td>0</td>\n",
       "      <td>0</td>\n",
       "      <td>1</td>\n",
       "      <td>1</td>\n",
       "      <td>1</td>\n",
       "      <td>1</td>\n",
       "      <td>0</td>\n",
       "      <td>1</td>\n",
       "      <td>0</td>\n",
       "      <td>0</td>\n",
       "      <td>1</td>\n",
       "      <td>0</td>\n",
       "      <td>3</td>\n",
       "      <td>Reptile</td>\n",
       "    </tr>\n",
       "    <tr>\n",
       "      <th>80</th>\n",
       "      <td>slowworm</td>\n",
       "      <td>0</td>\n",
       "      <td>0</td>\n",
       "      <td>1</td>\n",
       "      <td>0</td>\n",
       "      <td>0</td>\n",
       "      <td>0</td>\n",
       "      <td>1</td>\n",
       "      <td>1</td>\n",
       "      <td>1</td>\n",
       "      <td>1</td>\n",
       "      <td>0</td>\n",
       "      <td>0</td>\n",
       "      <td>0</td>\n",
       "      <td>1</td>\n",
       "      <td>0</td>\n",
       "      <td>3</td>\n",
       "      <td>Reptile</td>\n",
       "    </tr>\n",
       "    <tr>\n",
       "      <th>90</th>\n",
       "      <td>tortoise</td>\n",
       "      <td>0</td>\n",
       "      <td>0</td>\n",
       "      <td>1</td>\n",
       "      <td>0</td>\n",
       "      <td>0</td>\n",
       "      <td>0</td>\n",
       "      <td>0</td>\n",
       "      <td>0</td>\n",
       "      <td>1</td>\n",
       "      <td>1</td>\n",
       "      <td>0</td>\n",
       "      <td>0</td>\n",
       "      <td>4</td>\n",
       "      <td>1</td>\n",
       "      <td>0</td>\n",
       "      <td>3</td>\n",
       "      <td>Reptile</td>\n",
       "    </tr>\n",
       "    <tr>\n",
       "      <th>91</th>\n",
       "      <td>tuatara</td>\n",
       "      <td>0</td>\n",
       "      <td>0</td>\n",
       "      <td>1</td>\n",
       "      <td>0</td>\n",
       "      <td>0</td>\n",
       "      <td>0</td>\n",
       "      <td>1</td>\n",
       "      <td>1</td>\n",
       "      <td>1</td>\n",
       "      <td>1</td>\n",
       "      <td>0</td>\n",
       "      <td>0</td>\n",
       "      <td>4</td>\n",
       "      <td>1</td>\n",
       "      <td>0</td>\n",
       "      <td>3</td>\n",
       "      <td>Reptile</td>\n",
       "    </tr>\n",
       "  </tbody>\n",
       "</table>\n",
       "<p>101 rows × 18 columns</p>\n",
       "</div>"
      ],
      "text/plain": [
       "   animal_name  hair  feathers  eggs  milk  airborne  aquatic  predator  \\\n",
       "0     aardvark     1         0     0     1         0        0         1   \n",
       "1     antelope     1         0     0     1         0        0         0   \n",
       "3         bear     1         0     0     1         0        0         1   \n",
       "4         boar     1         0     0     1         0        0         1   \n",
       "5      buffalo     1         0     0     1         0        0         0   \n",
       "..         ...   ...       ...   ...   ...       ...      ...       ...   \n",
       "62    pitviper     0         0     1     0         0        0         1   \n",
       "76    seasnake     0         0     0     0         0        1         1   \n",
       "80    slowworm     0         0     1     0         0        0         1   \n",
       "90    tortoise     0         0     1     0         0        0         0   \n",
       "91     tuatara     0         0     1     0         0        0         1   \n",
       "\n",
       "    toothed  backbone  breathes  venomous  fins  legs  tail  domestic  \\\n",
       "0         1         1         1         0     0     4     0         0   \n",
       "1         1         1         1         0     0     4     1         0   \n",
       "3         1         1         1         0     0     4     0         0   \n",
       "4         1         1         1         0     0     4     1         0   \n",
       "5         1         1         1         0     0     4     1         0   \n",
       "..      ...       ...       ...       ...   ...   ...   ...       ...   \n",
       "62        1         1         1         1     0     0     1         0   \n",
       "76        1         1         0         1     0     0     1         0   \n",
       "80        1         1         1         0     0     0     1         0   \n",
       "90        0         1         1         0     0     4     1         0   \n",
       "91        1         1         1         0     0     4     1         0   \n",
       "\n",
       "    class_type Class_Type  \n",
       "0            1     Mammal  \n",
       "1            1     Mammal  \n",
       "3            1     Mammal  \n",
       "4            1     Mammal  \n",
       "5            1     Mammal  \n",
       "..         ...        ...  \n",
       "62           3    Reptile  \n",
       "76           3    Reptile  \n",
       "80           3    Reptile  \n",
       "90           3    Reptile  \n",
       "91           3    Reptile  \n",
       "\n",
       "[101 rows x 18 columns]"
      ]
     },
     "execution_count": 7,
     "metadata": {},
     "output_type": "execute_result"
    }
   ],
   "source": [
    "df_zoo.drop(['catsize','Animal_Names', 'Number_Of_Animal_Species_In_Class'], axis=1, inplace=True)\n",
    "df_zoo"
   ]
  },
  {
   "cell_type": "markdown",
   "id": "45634a81",
   "metadata": {},
   "source": [
    "# Step 9 - Split the data into training and testing data"
   ]
  },
  {
   "cell_type": "code",
   "execution_count": 8,
   "id": "52e7aac5",
   "metadata": {},
   "outputs": [
    {
     "name": "stdout",
     "output_type": "stream",
     "text": [
      "size of x_train: (70, 15)\n",
      "size of y_train: (70,)\n",
      "size of x_test: (31, 15)\n",
      "size of y_test: (31,)\n"
     ]
    }
   ],
   "source": [
    "x = df_zoo.drop(labels=[\"animal_name\", \"class_type\", \"Class_Type\"],axis=1)\n",
    "y = df_zoo[\"class_type\"]\n",
    "\n",
    "x_train, x_test, y_train, y_test = train_test_split(x, y, test_size=0.3)\n",
    "\n",
    "print(f\"size of x_train: {x_train.shape}\")\n",
    "print(f\"size of y_train: {y_train.shape}\")\n",
    "print(f\"size of x_test: {x_test.shape}\")\n",
    "print(f\"size of y_test: {y_test.shape}\")"
   ]
  },
  {
   "cell_type": "markdown",
   "id": "5a2f5269",
   "metadata": {},
   "source": [
    "# Step 10 - Create the model and fit it to the training data."
   ]
  },
  {
   "cell_type": "code",
   "execution_count": 9,
   "id": "98590559",
   "metadata": {},
   "outputs": [
    {
     "data": {
      "text/plain": [
       "KNeighborsClassifier(n_neighbors=1)"
      ]
     },
     "execution_count": 9,
     "metadata": {},
     "output_type": "execute_result"
    }
   ],
   "source": [
    "knn = KNeighborsClassifier(n_neighbors=1)\n",
    "knn.fit(x_train,y_train)"
   ]
  },
  {
   "cell_type": "markdown",
   "id": "6defff2e",
   "metadata": {},
   "source": [
    "# Step 11 - Predict values based on testing data"
   ]
  },
  {
   "cell_type": "code",
   "execution_count": 10,
   "id": "9b37be09",
   "metadata": {},
   "outputs": [
    {
     "data": {
      "text/plain": [
       "array([2, 1, 4, 2, 5, 4, 1, 4, 4, 1, 2, 6, 1, 1, 2, 2, 2, 4, 6, 3, 2, 6,\n",
       "       5, 7, 2, 6, 6, 2, 4, 3, 7])"
      ]
     },
     "execution_count": 10,
     "metadata": {},
     "output_type": "execute_result"
    }
   ],
   "source": [
    "prediction = knn.predict(x_test)\n",
    "prediction"
   ]
  },
  {
   "cell_type": "markdown",
   "id": "97b91ca9",
   "metadata": {},
   "source": [
    "# Step 12 - Print out the classification report for the y test data and the predictions"
   ]
  },
  {
   "cell_type": "code",
   "execution_count": 11,
   "id": "1438f51d",
   "metadata": {},
   "outputs": [
    {
     "name": "stdout",
     "output_type": "stream",
     "text": [
      "              precision    recall  f1-score   support\n",
      "\n",
      "           1       1.00      1.00      1.00         5\n",
      "           2       1.00      1.00      1.00         9\n",
      "           3       0.50      1.00      0.67         1\n",
      "           4       1.00      1.00      1.00         6\n",
      "           5       1.00      0.67      0.80         3\n",
      "           6       1.00      1.00      1.00         5\n",
      "           7       1.00      1.00      1.00         2\n",
      "\n",
      "    accuracy                           0.97        31\n",
      "   macro avg       0.93      0.95      0.92        31\n",
      "weighted avg       0.98      0.97      0.97        31\n",
      "\n"
     ]
    }
   ],
   "source": [
    "# print(classification_report(y_test, prediction))\n",
    "print(classification_report(y_test, prediction, zero_division=0)) # To avoid warnings of division by zero"
   ]
  },
  {
   "cell_type": "markdown",
   "id": "1cbffbe0",
   "metadata": {},
   "source": [
    "# Step 13 - Interpretation of the results"
   ]
  },
  {
   "cell_type": "markdown",
   "id": "ae328970",
   "metadata": {},
   "source": [
    "### Precision \n",
    "\n",
    "It indicates the percentage of the predictions that were correct for each class.\n",
    "\n",
    "### Recall \n",
    "\n",
    "It indicates the percentage of the class that were predicted correctly.\n",
    "\n",
    "### F1-score \n",
    "\n",
    "It embeds precision and recall into one measure such that the best score is 1.0 and the worst is 0.\n",
    "\n",
    "F1 Score = 2*(Recall * Precision) / (Recall + Precision)\n",
    "\n",
    "### Support \n",
    "\n",
    "It indicates the number of actual occurrences of the class in the dataset. The support in the training data must be balanced.\n",
    "\n",
    "#### In this report we can appreciate that the model have a great accuracy. \n",
    "#### It identified all the elements in each class except for the class 5 where only the 2 of 3 elements were classified as 5. One of them was classified as 3, affecting the precision associated to the class 3 a 50%. \n",
    "#### That was the only mistake of the model for the test dataset."
   ]
  },
  {
   "cell_type": "markdown",
   "id": "df043616",
   "metadata": {},
   "source": [
    "# Step 14 - Repeat steps 10 to 13 using k=3."
   ]
  },
  {
   "cell_type": "markdown",
   "id": "f73a0055",
   "metadata": {},
   "source": [
    "## Create the model and fit it to the training data."
   ]
  },
  {
   "cell_type": "code",
   "execution_count": 12,
   "id": "bc8a71b2",
   "metadata": {},
   "outputs": [
    {
     "data": {
      "text/plain": [
       "KNeighborsClassifier(n_neighbors=3)"
      ]
     },
     "execution_count": 12,
     "metadata": {},
     "output_type": "execute_result"
    }
   ],
   "source": [
    "knn_3 = KNeighborsClassifier(n_neighbors=3)\n",
    "knn_3.fit(x_train,y_train)"
   ]
  },
  {
   "cell_type": "markdown",
   "id": "4c5ee943",
   "metadata": {},
   "source": [
    "## Predict values based on testing data."
   ]
  },
  {
   "cell_type": "code",
   "execution_count": 13,
   "id": "165784a1",
   "metadata": {},
   "outputs": [
    {
     "data": {
      "text/plain": [
       "array([2, 1, 4, 2, 3, 4, 1, 4, 4, 1, 2, 6, 1, 1, 2, 2, 2, 4, 6, 3, 2, 6,\n",
       "       3, 7, 2, 6, 6, 2, 4, 1, 7])"
      ]
     },
     "execution_count": 13,
     "metadata": {},
     "output_type": "execute_result"
    }
   ],
   "source": [
    "prediction_3 = knn_3.predict(x_test)\n",
    "prediction_3"
   ]
  },
  {
   "cell_type": "markdown",
   "id": "94793bc2",
   "metadata": {},
   "source": [
    "## Classification report."
   ]
  },
  {
   "cell_type": "code",
   "execution_count": 14,
   "id": "71353108",
   "metadata": {},
   "outputs": [
    {
     "name": "stdout",
     "output_type": "stream",
     "text": [
      "              precision    recall  f1-score   support\n",
      "\n",
      "           1       0.83      1.00      0.91         5\n",
      "           2       1.00      1.00      1.00         9\n",
      "           3       0.33      1.00      0.50         1\n",
      "           4       1.00      1.00      1.00         6\n",
      "           5       0.00      0.00      0.00         3\n",
      "           6       1.00      1.00      1.00         5\n",
      "           7       1.00      1.00      1.00         2\n",
      "\n",
      "    accuracy                           0.90        31\n",
      "   macro avg       0.74      0.86      0.77        31\n",
      "weighted avg       0.85      0.90      0.87        31\n",
      "\n"
     ]
    }
   ],
   "source": [
    "# print(classification_report(y_test, prediction_3))\n",
    "print(classification_report(y_test, prediction_3, zero_division=0)) # To avoid warnings of division by zero"
   ]
  },
  {
   "cell_type": "markdown",
   "id": "e2c95684",
   "metadata": {},
   "source": [
    "## Interpretation of the results."
   ]
  },
  {
   "cell_type": "markdown",
   "id": "1acf1256",
   "metadata": {},
   "source": [
    "#### In this report we can appreciate that the model with k = 3 has a lower accuracy than the previous model with k = 1.\n",
    "#### In this case, none of the three elements of the class 5 were correctly classified. Two of them were classified as class 1, while the other one was assigned to class 3. In view of that, the precision of the classes 1 and 3 were compromised."
   ]
  },
  {
   "cell_type": "markdown",
   "id": "0c06ff5e",
   "metadata": {},
   "source": [
    "# Step 15 - Logistic Regression."
   ]
  },
  {
   "cell_type": "code",
   "execution_count": 17,
   "id": "a099b825",
   "metadata": {},
   "outputs": [
    {
     "data": {
      "text/plain": [
       "LogisticRegression(max_iter=1000)"
      ]
     },
     "execution_count": 17,
     "metadata": {},
     "output_type": "execute_result"
    }
   ],
   "source": [
    "lr = LogisticRegression(max_iter=1000)\n",
    "lr.fit(x_train,y_train)"
   ]
  },
  {
   "cell_type": "markdown",
   "id": "68f7b5d0",
   "metadata": {},
   "source": [
    "## Predict values based on testing data."
   ]
  },
  {
   "cell_type": "code",
   "execution_count": 18,
   "id": "70c4b49f",
   "metadata": {},
   "outputs": [
    {
     "data": {
      "text/plain": [
       "array([2, 1, 4, 2, 3, 4, 1, 4, 4, 1, 2, 7, 1, 1, 2, 2, 2, 4, 6, 3, 2, 6,\n",
       "       3, 7, 2, 7, 6, 2, 4, 3, 7])"
      ]
     },
     "execution_count": 18,
     "metadata": {},
     "output_type": "execute_result"
    }
   ],
   "source": [
    "prediction_lr = lr.predict(x_test)\n",
    "prediction_lr"
   ]
  },
  {
   "cell_type": "markdown",
   "id": "0ce44d3d",
   "metadata": {},
   "source": [
    "## Classification report."
   ]
  },
  {
   "cell_type": "code",
   "execution_count": 19,
   "id": "0b8f239e",
   "metadata": {},
   "outputs": [
    {
     "name": "stdout",
     "output_type": "stream",
     "text": [
      "              precision    recall  f1-score   support\n",
      "\n",
      "           1       1.00      1.00      1.00         5\n",
      "           2       1.00      1.00      1.00         9\n",
      "           3       0.25      1.00      0.40         1\n",
      "           4       1.00      1.00      1.00         6\n",
      "           5       0.00      0.00      0.00         3\n",
      "           6       1.00      0.60      0.75         5\n",
      "           7       0.50      1.00      0.67         2\n",
      "\n",
      "    accuracy                           0.84        31\n",
      "   macro avg       0.68      0.80      0.69        31\n",
      "weighted avg       0.85      0.84      0.82        31\n",
      "\n"
     ]
    }
   ],
   "source": [
    "# print(classification_report(y_test, prediction_lr))\n",
    "print(classification_report(y_test, prediction_lr, zero_division=0)) # To avoid warnings of division by zero"
   ]
  },
  {
   "cell_type": "markdown",
   "id": "35a03eaf",
   "metadata": {},
   "source": [
    "# Step 16 - Results Comparison."
   ]
  },
  {
   "cell_type": "markdown",
   "id": "0f47b6da",
   "metadata": {},
   "source": [
    "#### The accuracy of the logistic regression model is the worst of the three models used in this case study. In this model, the three elements of the class 5 plus two of elements of the class 6 were distributed in the classes 3 and 7 affecting the precision in those groups.\n",
    "\n",
    "#### To support our conclusions we can compare the F1-Score of the three models as this measure combines both Precision and Recall. \n",
    "\n",
    "#### The best model based on all the previous analysis is the KNN model with K = 1."
   ]
  },
  {
   "cell_type": "code",
   "execution_count": 31,
   "id": "74a32ce5",
   "metadata": {},
   "outputs": [],
   "source": [
    "best_classifier = knn"
   ]
  },
  {
   "cell_type": "markdown",
   "id": "5a930761",
   "metadata": {},
   "source": [
    "# Step 17 - Evaluate the best model with two selected rows."
   ]
  },
  {
   "cell_type": "code",
   "execution_count": 32,
   "id": "674ec08c",
   "metadata": {},
   "outputs": [
    {
     "data": {
      "text/html": [
       "<div>\n",
       "<style scoped>\n",
       "    .dataframe tbody tr th:only-of-type {\n",
       "        vertical-align: middle;\n",
       "    }\n",
       "\n",
       "    .dataframe tbody tr th {\n",
       "        vertical-align: top;\n",
       "    }\n",
       "\n",
       "    .dataframe thead th {\n",
       "        text-align: right;\n",
       "    }\n",
       "</style>\n",
       "<table border=\"1\" class=\"dataframe\">\n",
       "  <thead>\n",
       "    <tr style=\"text-align: right;\">\n",
       "      <th></th>\n",
       "      <th>animal_name</th>\n",
       "      <th>hair</th>\n",
       "      <th>feathers</th>\n",
       "      <th>eggs</th>\n",
       "      <th>milk</th>\n",
       "      <th>airborne</th>\n",
       "      <th>aquatic</th>\n",
       "      <th>predator</th>\n",
       "      <th>toothed</th>\n",
       "      <th>backbone</th>\n",
       "      <th>breathes</th>\n",
       "      <th>venomous</th>\n",
       "      <th>fins</th>\n",
       "      <th>legs</th>\n",
       "      <th>tail</th>\n",
       "      <th>domestic</th>\n",
       "      <th>class_type</th>\n",
       "      <th>Class_Type</th>\n",
       "    </tr>\n",
       "  </thead>\n",
       "  <tbody>\n",
       "    <tr>\n",
       "      <th>3</th>\n",
       "      <td>bear</td>\n",
       "      <td>1</td>\n",
       "      <td>0</td>\n",
       "      <td>0</td>\n",
       "      <td>1</td>\n",
       "      <td>0</td>\n",
       "      <td>0</td>\n",
       "      <td>1</td>\n",
       "      <td>1</td>\n",
       "      <td>1</td>\n",
       "      <td>1</td>\n",
       "      <td>0</td>\n",
       "      <td>0</td>\n",
       "      <td>4</td>\n",
       "      <td>0</td>\n",
       "      <td>0</td>\n",
       "      <td>1</td>\n",
       "      <td>Mammal</td>\n",
       "    </tr>\n",
       "    <tr>\n",
       "      <th>90</th>\n",
       "      <td>tortoise</td>\n",
       "      <td>0</td>\n",
       "      <td>0</td>\n",
       "      <td>1</td>\n",
       "      <td>0</td>\n",
       "      <td>0</td>\n",
       "      <td>0</td>\n",
       "      <td>0</td>\n",
       "      <td>0</td>\n",
       "      <td>1</td>\n",
       "      <td>1</td>\n",
       "      <td>0</td>\n",
       "      <td>0</td>\n",
       "      <td>4</td>\n",
       "      <td>1</td>\n",
       "      <td>0</td>\n",
       "      <td>3</td>\n",
       "      <td>Reptile</td>\n",
       "    </tr>\n",
       "  </tbody>\n",
       "</table>\n",
       "</div>"
      ],
      "text/plain": [
       "   animal_name  hair  feathers  eggs  milk  airborne  aquatic  predator  \\\n",
       "3         bear     1         0     0     1         0        0         1   \n",
       "90    tortoise     0         0     1     0         0        0         0   \n",
       "\n",
       "    toothed  backbone  breathes  venomous  fins  legs  tail  domestic  \\\n",
       "3         1         1         1         0     0     4     0         0   \n",
       "90        0         1         1         0     0     4     1         0   \n",
       "\n",
       "    class_type Class_Type  \n",
       "3            1     Mammal  \n",
       "90           3    Reptile  "
      ]
     },
     "execution_count": 32,
     "metadata": {},
     "output_type": "execute_result"
    }
   ],
   "source": [
    "# selecting rows with Id 3 and 90 \n",
    "# these are from different classes (Mammal and Reptile)\n",
    "sample_ids = [3, 90]\n",
    "sample = df_zoo.loc[sample_ids]\n",
    "sample"
   ]
  },
  {
   "cell_type": "code",
   "execution_count": 33,
   "id": "0454ec88",
   "metadata": {},
   "outputs": [
    {
     "data": {
      "text/plain": [
       "array([1, 3])"
      ]
     },
     "execution_count": 33,
     "metadata": {},
     "output_type": "execute_result"
    }
   ],
   "source": [
    "sample_features = sample.drop(labels=[\"animal_name\", \"class_type\", \"Class_Type\"],axis=1)\n",
    "predicted_class = best_classifier.predict(sample_features)\n",
    "predicted_class"
   ]
  },
  {
   "cell_type": "code",
   "execution_count": 34,
   "id": "f1081a67",
   "metadata": {},
   "outputs": [
    {
     "data": {
      "text/html": [
       "<div>\n",
       "<style scoped>\n",
       "    .dataframe tbody tr th:only-of-type {\n",
       "        vertical-align: middle;\n",
       "    }\n",
       "\n",
       "    .dataframe tbody tr th {\n",
       "        vertical-align: top;\n",
       "    }\n",
       "\n",
       "    .dataframe thead th {\n",
       "        text-align: right;\n",
       "    }\n",
       "</style>\n",
       "<table border=\"1\" class=\"dataframe\">\n",
       "  <thead>\n",
       "    <tr style=\"text-align: right;\">\n",
       "      <th></th>\n",
       "      <th>animal_name</th>\n",
       "      <th>hair</th>\n",
       "      <th>feathers</th>\n",
       "      <th>eggs</th>\n",
       "      <th>milk</th>\n",
       "      <th>airborne</th>\n",
       "      <th>aquatic</th>\n",
       "      <th>predator</th>\n",
       "      <th>toothed</th>\n",
       "      <th>backbone</th>\n",
       "      <th>breathes</th>\n",
       "      <th>venomous</th>\n",
       "      <th>fins</th>\n",
       "      <th>legs</th>\n",
       "      <th>tail</th>\n",
       "      <th>domestic</th>\n",
       "      <th>class_type</th>\n",
       "      <th>Class_Type</th>\n",
       "      <th>Predicted</th>\n",
       "      <th>Correct</th>\n",
       "    </tr>\n",
       "  </thead>\n",
       "  <tbody>\n",
       "    <tr>\n",
       "      <th>3</th>\n",
       "      <td>bear</td>\n",
       "      <td>1</td>\n",
       "      <td>0</td>\n",
       "      <td>0</td>\n",
       "      <td>1</td>\n",
       "      <td>0</td>\n",
       "      <td>0</td>\n",
       "      <td>1</td>\n",
       "      <td>1</td>\n",
       "      <td>1</td>\n",
       "      <td>1</td>\n",
       "      <td>0</td>\n",
       "      <td>0</td>\n",
       "      <td>4</td>\n",
       "      <td>0</td>\n",
       "      <td>0</td>\n",
       "      <td>1</td>\n",
       "      <td>Mammal</td>\n",
       "      <td>1</td>\n",
       "      <td>True</td>\n",
       "    </tr>\n",
       "    <tr>\n",
       "      <th>90</th>\n",
       "      <td>tortoise</td>\n",
       "      <td>0</td>\n",
       "      <td>0</td>\n",
       "      <td>1</td>\n",
       "      <td>0</td>\n",
       "      <td>0</td>\n",
       "      <td>0</td>\n",
       "      <td>0</td>\n",
       "      <td>0</td>\n",
       "      <td>1</td>\n",
       "      <td>1</td>\n",
       "      <td>0</td>\n",
       "      <td>0</td>\n",
       "      <td>4</td>\n",
       "      <td>1</td>\n",
       "      <td>0</td>\n",
       "      <td>3</td>\n",
       "      <td>Reptile</td>\n",
       "      <td>3</td>\n",
       "      <td>True</td>\n",
       "    </tr>\n",
       "  </tbody>\n",
       "</table>\n",
       "</div>"
      ],
      "text/plain": [
       "   animal_name  hair  feathers  eggs  milk  airborne  aquatic  predator  \\\n",
       "3         bear     1         0     0     1         0        0         1   \n",
       "90    tortoise     0         0     1     0         0        0         0   \n",
       "\n",
       "    toothed  backbone  breathes  venomous  fins  legs  tail  domestic  \\\n",
       "3         1         1         1         0     0     4     0         0   \n",
       "90        0         1         1         0     0     4     1         0   \n",
       "\n",
       "    class_type Class_Type  Predicted  Correct  \n",
       "3            1     Mammal          1     True  \n",
       "90           3    Reptile          3     True  "
      ]
     },
     "execution_count": 34,
     "metadata": {},
     "output_type": "execute_result"
    }
   ],
   "source": [
    "sample[\"Predicted\"] = predicted_class\n",
    "sample[\"Correct\"] = sample[\"class_type\"] == sample[\"Predicted\"]\n",
    "\n",
    "sample"
   ]
  },
  {
   "cell_type": "code",
   "execution_count": 36,
   "id": "a06fc5b1",
   "metadata": {},
   "outputs": [
    {
     "data": {
      "text/html": [
       "<div>\n",
       "<style scoped>\n",
       "    .dataframe tbody tr th:only-of-type {\n",
       "        vertical-align: middle;\n",
       "    }\n",
       "\n",
       "    .dataframe tbody tr th {\n",
       "        vertical-align: top;\n",
       "    }\n",
       "\n",
       "    .dataframe thead th {\n",
       "        text-align: right;\n",
       "    }\n",
       "</style>\n",
       "<table border=\"1\" class=\"dataframe\">\n",
       "  <thead>\n",
       "    <tr style=\"text-align: right;\">\n",
       "      <th></th>\n",
       "      <th>animal_name</th>\n",
       "      <th>Class_Type</th>\n",
       "      <th>class_type</th>\n",
       "      <th>Predicted</th>\n",
       "      <th>Correct</th>\n",
       "    </tr>\n",
       "  </thead>\n",
       "  <tbody>\n",
       "    <tr>\n",
       "      <th>3</th>\n",
       "      <td>bear</td>\n",
       "      <td>Mammal</td>\n",
       "      <td>1</td>\n",
       "      <td>1</td>\n",
       "      <td>True</td>\n",
       "    </tr>\n",
       "    <tr>\n",
       "      <th>90</th>\n",
       "      <td>tortoise</td>\n",
       "      <td>Reptile</td>\n",
       "      <td>3</td>\n",
       "      <td>3</td>\n",
       "      <td>True</td>\n",
       "    </tr>\n",
       "  </tbody>\n",
       "</table>\n",
       "</div>"
      ],
      "text/plain": [
       "   animal_name Class_Type  class_type  Predicted  Correct\n",
       "3         bear     Mammal           1          1     True\n",
       "90    tortoise    Reptile           3          3     True"
      ]
     },
     "execution_count": 36,
     "metadata": {},
     "output_type": "execute_result"
    }
   ],
   "source": [
    "# Show only columns meaningful to the reader\n",
    "sample[[\"animal_name\", \"Class_Type\", \"class_type\", \"Predicted\", \"Correct\"]]"
   ]
  },
  {
   "cell_type": "markdown",
   "id": "131a335f",
   "metadata": {},
   "source": [
    "In the column \"Predicted\" we can see the class predicted by the selected model (knn) while in the column \"Correct\" we can see if the prediction actually matches with the real class.\n",
    "In this case, the two selected animals (bear and tortoise) are classified correctly."
   ]
  },
  {
   "cell_type": "markdown",
   "id": "75bef7db",
   "metadata": {},
   "source": [
    "# Step 18 - KNN vs Logistic Regression\n",
    "\n",
    "## K-Nearest Neighbours\n",
    "\n",
    "KNN is a supervised machine learning algorithms which means we use labeled dataset to predict the class of new data points. The KNN algorithm uses a majority voting mechanism. It collects data from a training data set and uses this data later to make predictions for new records.\n",
    "\n",
    "### Strengths of K-Nearest Neighbours\n",
    "\n",
    "•\tIt is extremely intuitive and simple to put into action. \n",
    "•\tIt is a non-parametric algorithm which means there are no assumptions to be met in order to apply the model. \n",
    "•\tIt does not require to build any model; it simply tags the new data entry based on learning from historical data.\n",
    "•\tIt follows a memory-based approach, allowing the algorithm to adapt as we collect new training data.\n",
    "•\tIt can be used for both classification and regression problems.\n",
    "•\tIt can handle large volumes of training data.\n",
    "•\tIt makes highly accurate predictions, competing with the most accurate models.\n",
    "\n",
    "### Weaknesses of K-Nearest Neighbours\n",
    "\n",
    "•\tIt is highly dependent of the value of K, which can be difficult to identify.\n",
    "•\tIt could present performance issues as the data set grows.\n",
    "•\tIt struggles to predict the output of new observation in high-dimensional datasets.\n",
    "•\tIt requires that features have the same scale, since absolute differences in features weight the same.\n",
    "•\tIt does not perform well on imbalanced data.\n",
    "•\tIt is sensitive to outliers as it simply chose the neighbors based on distance criteria.\n",
    "•\tIt has no capability of dealing with missing values.\n",
    "\n",
    "## Logistic Regression\n",
    "\n",
    "The Logistic Regression model is a type of statistical analysis often used for predictive analytics and machine learning. It is used to understand the relationship between the dependent variable and one or more independent variables by estimating probabilities using a logistic regression equation.\n",
    "\n",
    "In this analytics approach, the dependent variable is finite or categorical: either two values (binary regression) or a range of finite options (multinomial regression). \n",
    "\n",
    "\n",
    "### Strengths of Logistic Regression\n",
    "\n",
    "•\tIt is one of the simplest models making it easy to implement and understand. \n",
    "•\tIt is extremely efficient as it does not require too many calculations compared with other models.\n",
    "•\tIt is easy to update to respond to data changes.\n",
    "•\tIt is very reliable as it does not only provide the final classification but also includes well-calibrated probabilities associated with each result.\n",
    "•\tIt is less prone to overfitting in low-dimensional datasets.\n",
    "•\tIt is extremely accurate for simple datasets with linearly separable features.\n",
    "\n",
    "### Weaknesses of Logistic Regression\n",
    "\n",
    "•\tIt tends to be over-fitted in high-dimensional datasets.\n",
    "•\tIt cannot solve non-linear problems.\n",
    "•\tIt struggles to capture complex relationships in the data.\n",
    "•\tIt may result in over-fit when the number of observations is lower than the number of features in the data.\n",
    "\n",
    "\n",
    "# Conclusions\n",
    "When deciding which prediction model to use, we should consider the mentioned strengths and weaknesses of KNN and LR to identify which one is more suitable to the business case.\n"
   ]
  },
  {
   "cell_type": "code",
   "execution_count": null,
   "id": "e7a17fee",
   "metadata": {},
   "outputs": [],
   "source": []
  }
 ],
 "metadata": {
  "kernelspec": {
   "display_name": "Python 3 (ipykernel)",
   "language": "python",
   "name": "python3"
  },
  "language_info": {
   "codemirror_mode": {
    "name": "ipython",
    "version": 3
   },
   "file_extension": ".py",
   "mimetype": "text/x-python",
   "name": "python",
   "nbconvert_exporter": "python",
   "pygments_lexer": "ipython3",
   "version": "3.10.4"
  }
 },
 "nbformat": 4,
 "nbformat_minor": 5
}
