{
 "cells": [
  {
   "cell_type": "code",
   "execution_count": 54,
   "id": "a91dd635",
   "metadata": {},
   "outputs": [],
   "source": [
    "#2 importing modules\n",
    "import pandas as pd\n",
    "import numpy as np\n",
    "import seaborn as sb\n",
    "import matplotlib.pyplot as plt\n",
    "%matplotlib inline\n",
    "from sklearn.metrics import classification_report\n",
    "from sklearn.neighbors import KNeighborsClassifier\n",
    "from sklearn.model_selection import train_test_split\n",
    "from sklearn.linear_model import LinearRegression\n",
    "from sklearn import metrics\n",
    "\n"
   ]
  },
  {
   "cell_type": "code",
   "execution_count": 42,
   "id": "4f1b17a6",
   "metadata": {},
   "outputs": [
    {
     "data": {
      "text/html": [
       "<div>\n",
       "<style scoped>\n",
       "    .dataframe tbody tr th:only-of-type {\n",
       "        vertical-align: middle;\n",
       "    }\n",
       "\n",
       "    .dataframe tbody tr th {\n",
       "        vertical-align: top;\n",
       "    }\n",
       "\n",
       "    .dataframe thead th {\n",
       "        text-align: right;\n",
       "    }\n",
       "</style>\n",
       "<table border=\"1\" class=\"dataframe\">\n",
       "  <thead>\n",
       "    <tr style=\"text-align: right;\">\n",
       "      <th></th>\n",
       "      <th>Height (m)</th>\n",
       "      <th>Mass (kg)</th>\n",
       "    </tr>\n",
       "  </thead>\n",
       "  <tbody>\n",
       "    <tr>\n",
       "      <th>0</th>\n",
       "      <td>1.47</td>\n",
       "      <td>52.21</td>\n",
       "    </tr>\n",
       "    <tr>\n",
       "      <th>1</th>\n",
       "      <td>1.50</td>\n",
       "      <td>53.12</td>\n",
       "    </tr>\n",
       "    <tr>\n",
       "      <th>2</th>\n",
       "      <td>1.52</td>\n",
       "      <td>54.48</td>\n",
       "    </tr>\n",
       "    <tr>\n",
       "      <th>3</th>\n",
       "      <td>1.55</td>\n",
       "      <td>55.84</td>\n",
       "    </tr>\n",
       "    <tr>\n",
       "      <th>4</th>\n",
       "      <td>1.57</td>\n",
       "      <td>57.20</td>\n",
       "    </tr>\n",
       "  </tbody>\n",
       "</table>\n",
       "</div>"
      ],
      "text/plain": [
       "   Height (m)  Mass (kg)\n",
       "0        1.47      52.21\n",
       "1        1.50      53.12\n",
       "2        1.52      54.48\n",
       "3        1.55      55.84\n",
       "4        1.57      57.20"
      ]
     },
     "execution_count": 42,
     "metadata": {},
     "output_type": "execute_result"
    }
   ],
   "source": [
    "#3 Read csv into a pandas dataset\n",
    "people = pd.read_csv(\"height_mass.csv\")\n",
    "people.head()"
   ]
  },
  {
   "cell_type": "code",
   "execution_count": 43,
   "id": "c125d2c5",
   "metadata": {},
   "outputs": [
    {
     "data": {
      "text/plain": [
       "<AxesSubplot:xlabel='Mass (kg)', ylabel='Count'>"
      ]
     },
     "execution_count": 43,
     "metadata": {},
     "output_type": "execute_result"
    },
    {
     "data": {
      "image/png": "[encoded data removed]",
      "text/plain": [
       "<Figure size 432x288 with 1 Axes>"
      ]
     },
     "metadata": {
      "needs_background": "light"
     },
     "output_type": "display_data"
    }
   ],
   "source": [
    "#4 seaborn histplot for mass distribution with bin#8\n",
    "sb.histplot(data=people,x=\"Mass (kg)\",bins=8)"
   ]
  },
  {
   "cell_type": "markdown",
   "id": "06c4e478",
   "metadata": {},
   "source": [
    "plot with bin#8 gives clearest information because it does not overlap or break in between. Hence it is easy to indenfy the correlation predict height from mass. It cleary displays that people having mass between 52.5kg to 55 kg are heigher compare to the other slots of mass ranges."
   ]
  },
  {
   "cell_type": "code",
   "execution_count": 44,
   "id": "19c6b710",
   "metadata": {},
   "outputs": [
    {
     "data": {
      "text/plain": [
       "<AxesSubplot:xlabel='Height (m)', ylabel='Count'>"
      ]
     },
     "execution_count": 44,
     "metadata": {},
     "output_type": "execute_result"
    },
    {
     "data": {
      "image/png": "[encoded data removed]",
      "text/plain": [
       "<Figure size 432x288 with 1 Axes>"
      ]
     },
     "metadata": {
      "needs_background": "light"
     },
     "output_type": "display_data"
    }
   ],
   "source": [
    "#5 seaborn histplot for height distribution with bin#7\n",
    "sb.histplot(x=\"Height (m)\",data=people, bins=7)"
   ]
  },
  {
   "cell_type": "markdown",
   "id": "80f31779",
   "metadata": {},
   "source": [
    "plot with bin#7 gives clearest information because it does not overlap or break in between. Hence it is easy to indenfy the correolation predict height from mass. It depicts that people having height between 1.575 mtr to 1.625 mtr are very few as compare to the other ranges of heights."
   ]
  },
  {
   "cell_type": "code",
   "execution_count": 73,
   "id": "227a3770",
   "metadata": {},
   "outputs": [
    {
     "data": {
      "text/plain": [
       "<seaborn.axisgrid.JointGrid at 0x1985b451930>"
      ]
     },
     "execution_count": 73,
     "metadata": {},
     "output_type": "execute_result"
    },
    {
     "data": {
      "image/png": "[encoded data removed]",
      "text/plain": [
       "<Figure size 432x432 with 3 Axes>"
      ]
     },
     "metadata": {
      "needs_background": "light"
     },
     "output_type": "display_data"
    }
   ],
   "source": [
    "#6 Seaborn jointplot to plot x=Height, y=Mass\n",
    "sb.jointplot(data=people, x=\"Height (m)\", y=\"Mass (kg)\")"
   ]
  },
  {
   "cell_type": "markdown",
   "id": "33e0b5ea",
   "metadata": {},
   "source": [
    "this plot confirms the data showed in above histplots. we can clearly see the congestion of the points for mass below 55 kg, However, it requires deeper observation to clearly identify this fact for heights because of the nature of the given dataset."
   ]
  },
  {
   "cell_type": "code",
   "execution_count": 46,
   "id": "3deb6cbe",
   "metadata": {},
   "outputs": [
    {
     "name": "stdout",
     "output_type": "stream",
     "text": [
      "size of x_train: (10, 1)\n",
      "size of y_train: (10,)\n",
      "size of x_test: (5, 1)\n",
      "size of y_test: (5,)\n"
     ]
    }
   ],
   "source": [
    "#7 Split the data into training and testing data\n",
    "x = people.drop(labels=[\"Mass (kg)\"],axis=1)\n",
    "y = people[\"Mass (kg)\"]\n",
    "\n",
    "x_train, x_test, y_train, y_test = train_test_split(x, y, test_size=0.3)\n",
    "\n",
    "print(f\"size of x_train: {x_train.shape}\")\n",
    "print(f\"size of y_train: {y_train.shape}\")\n",
    "print(f\"size of x_test: {x_test.shape}\")\n",
    "print(f\"size of y_test: {y_test.shape}\")"
   ]
  },
  {
   "cell_type": "code",
   "execution_count": 57,
   "id": "573230b3",
   "metadata": {},
   "outputs": [
    {
     "data": {
      "text/plain": [
       "LinearRegression()"
      ]
     },
     "execution_count": 57,
     "metadata": {},
     "output_type": "execute_result"
    }
   ],
   "source": [
    "#8 Create the model and fit it to the training data\n",
    "clf = LinearRegression()\n",
    "clf.fit(x_train, y_train)\n"
   ]
  },
  {
   "cell_type": "code",
   "execution_count": 58,
   "id": "ac47a4ee",
   "metadata": {},
   "outputs": [
    {
     "data": {
      "text/plain": [
       "array([56.51573464, 55.20947156, 49.98441922, 51.94381385, 70.23149704])"
      ]
     },
     "execution_count": 58,
     "metadata": {},
     "output_type": "execute_result"
    }
   ],
   "source": [
    "#9 Predict values based on testing data\n",
    "prediction = clf.predict(x_test)\n",
    "prediction"
   ]
  },
  {
   "cell_type": "code",
   "execution_count": 60,
   "id": "da3b1001",
   "metadata": {},
   "outputs": [
    {
     "name": "stdout",
     "output_type": "stream",
     "text": [
      "Results of sklearn.metrics:\n",
      "MAE: 1.0056115525286913\n",
      "MSE: 1.4598878526558121\n",
      "RMSE: 1.2082581895670363\n"
     ]
    }
   ],
   "source": [
    "#10 Print out error metrics\n",
    "mae = metrics.mean_absolute_error(y_test, prediction)\n",
    "mse = metrics.mean_squared_error(y_test, prediction)\n",
    "rmse = np.sqrt(mse) # or mse**(0.5)  \n",
    "print(\"Results of sklearn.metrics:\")\n",
    "print(\"MAE:\",mae)\n",
    "print(\"MSE:\", mse)\n",
    "print(\"RMSE:\", rmse)"
   ]
  },
  {
   "cell_type": "code",
   "execution_count": 62,
   "id": "b80bc97a",
   "metadata": {
    "scrolled": true
   },
   "outputs": [
    {
     "name": "stdout",
     "output_type": "stream",
     "text": [
      "[65.0064447]\n"
     ]
    },
    {
     "name": "stderr",
     "output_type": "stream",
     "text": [
      "C:\\Users\\nitin\\AppData\\Local\\Packages\\PythonSoftwareFoundation.Python.3.10_qbz5n2kfra8p0\\LocalCache\\local-packages\\Python310\\site-packages\\sklearn\\base.py:450: UserWarning: X does not have valid feature names, but LinearRegression was fitted with feature names\n",
      "  warnings.warn(\n"
     ]
    }
   ],
   "source": [
    "#11 Predict some specific mass\n",
    "Test_point = [[1.70]]\n",
    "print(clf.predict(Test_point))"
   ]
  },
  {
   "cell_type": "markdown",
   "id": "dac80d77",
   "metadata": {},
   "source": [
    "Prediction is almost near to the reality.  The lower a mean sqared error, the more better the prediction."
   ]
  },
  {
   "cell_type": "code",
   "execution_count": 86,
   "id": "13cdbaa3",
   "metadata": {},
   "outputs": [
    {
     "data": {
      "image/png": "[encoded data removed]",
      "text/plain": [
       "<Figure size 360x360 with 1 Axes>"
      ]
     },
     "metadata": {
      "needs_background": "light"
     },
     "output_type": "display_data"
    }
   ],
   "source": [
    "#12 Use seaborn to display an lmplot with the linear regression line\n",
    "\n",
    "sb.lmplot(data=people, x=\"Height (m)\", y=\"Mass (kg)\", fit_reg=True)\n",
    "plt.show()\n"
   ]
  },
  {
   "cell_type": "markdown",
   "id": "13fa07ca",
   "metadata": {},
   "source": [
    "Yes, this support the observations from step-6."
   ]
  },
  {
   "cell_type": "code",
   "execution_count": null,
   "id": "c602a3df",
   "metadata": {},
   "outputs": [],
   "source": []
  }
 ],
 "metadata": {
  "kernelspec": {
   "display_name": "Python 3 (ipykernel)",
   "language": "python",
   "name": "python3"
  },
  "language_info": {
   "codemirror_mode": {
    "name": "ipython",
    "version": 3
   },
   "file_extension": ".py",
   "mimetype": "text/x-python",
   "name": "python",
   "nbconvert_exporter": "python",
   "pygments_lexer": "ipython3",
   "version": "3.10.4"
  }
 },
 "nbformat": 4,
 "nbformat_minor": 5
}
